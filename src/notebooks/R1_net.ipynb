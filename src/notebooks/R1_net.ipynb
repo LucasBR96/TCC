{
 "cells": [
  {
   "cell_type": "code",
   "execution_count": 7,
   "metadata": {},
   "outputs": [
    {
     "name": "stdout",
     "output_type": "stream",
     "text": [
      "cpu\n"
     ]
    }
   ],
   "source": [
    "import os\n",
    "os.chdir( \"/home/lucasfuzato/TCC/CODE\" )\n",
    "\n",
    "import torch as tc\n",
    "device = \"cuda\" if tc.cuda.is_available() else \"cpu\"\n",
    "print( device )\n",
    "\n",
    "import torch.utils.data as tdt\n",
    "import pandas as pd\n",
    "\n",
    "\n",
    "from typing import *\n",
    "from itertools import *\n",
    "from src.util.aux_fun import *\n",
    "from src.util.loader_data import meu_loader\n",
    "\n",
    "import matplotlib.pyplot as plt"
   ]
  },
  {
   "cell_type": "code",
   "execution_count": 8,
   "metadata": {},
   "outputs": [],
   "source": [
    "def data_iter( test : bool, batch_size : int = 500 , max_time = 1.):\n",
    "\n",
    "    tup , _iter = None , None\n",
    "    while True:\n",
    "\n",
    "        if tup is None:\n",
    "            _iter = iter(\n",
    "                tdt.DataLoader( meu_loader( test , max_time = max_time ) , batch_size = batch_size , shuffle = True )\n",
    "            )\n",
    "            tup = next( _iter )\n",
    "        \n",
    "        yield tup\n",
    "\n",
    "def evaluate_model( net , opm , num_iter = 2*( 10**4 ) , record_interval = 100 , **kwargs ):\n",
    "\n",
    "    fit = fit_fun( net , opm )\n",
    "    eval_f = eval_fun( net )\n",
    "    train_data = data_iter( False , max_time = kwargs.get( \"max_time\" , 1. ))\n",
    "    test_data = data_iter( True   , max_time = kwargs.get( \"max_time\" , 1. ))\n",
    "\n",
    "    results = []\n",
    "    for i in range( num_iter ):\n",
    "\n",
    "        X_train , y_train = next( train_data )\n",
    "        if not( i%record_interval ):\n",
    "\n",
    "            ser = pd.Series( index = [ \"iter\" , \"tr_loss\" , \"ts_loss\" ] )\n",
    "            ser[ \"tr_loss\" ] = eval_f( X_train , y_train )\n",
    "\n",
    "            X_test , y_test = next( test_data )\n",
    "            ser[ \"ts_loss\" ] = eval_f( X_test , y_test )\n",
    "\n",
    "            ser[ \"iter\" ] = i\n",
    "            results.append( ser )\n",
    "        \n",
    "        fit( X_train , y_train )\n",
    "    \n",
    "    return pd.DataFrame( results )"
   ]
  },
  {
   "cell_type": "code",
   "execution_count": 9,
   "metadata": {},
   "outputs": [
    {
     "ename": "KeyboardInterrupt",
     "evalue": "",
     "output_type": "error",
     "traceback": [
      "\u001b[0;31m---------------------------------------------------------------------------\u001b[0m",
      "\u001b[0;31mKeyboardInterrupt\u001b[0m                         Traceback (most recent call last)",
      "Cell \u001b[0;32mIn[9], line 39\u001b[0m\n\u001b[1;32m     37\u001b[0m \u001b[39m# evaluate the performance \u001b[39;00m\n\u001b[1;32m     38\u001b[0m net , opm \u001b[39m=\u001b[39m make_net( shape , act , lr \u001b[39m=\u001b[39m lr )\n\u001b[0;32m---> 39\u001b[0m results \u001b[39m=\u001b[39m evaluate_model( net , opm  )\n\u001b[1;32m     41\u001b[0m grid_search_instances\u001b[39m.\u001b[39mat[ j , \u001b[39m\"\u001b[39m\u001b[39mmin_train\u001b[39m\u001b[39m\"\u001b[39m ] \u001b[39m=\u001b[39m results[ \u001b[39m\"\u001b[39m\u001b[39mtr_loss\u001b[39m\u001b[39m\"\u001b[39m ]\u001b[39m.\u001b[39mmin()\n\u001b[1;32m     42\u001b[0m grid_search_instances\u001b[39m.\u001b[39mat[ j , \u001b[39m\"\u001b[39m\u001b[39mmin_test\u001b[39m\u001b[39m\"\u001b[39m  ] \u001b[39m=\u001b[39m results[ \u001b[39m\"\u001b[39m\u001b[39mts_loss\u001b[39m\u001b[39m\"\u001b[39m ]\u001b[39m.\u001b[39mmin()\n",
      "Cell \u001b[0;32mIn[8], line 36\u001b[0m, in \u001b[0;36mevaluate_model\u001b[0;34m(net, opm, num_iter, record_interval, **kwargs)\u001b[0m\n\u001b[1;32m     33\u001b[0m         ser[ \u001b[39m\"\u001b[39m\u001b[39miter\u001b[39m\u001b[39m\"\u001b[39m ] \u001b[39m=\u001b[39m i\n\u001b[1;32m     34\u001b[0m         results\u001b[39m.\u001b[39mappend( ser )\n\u001b[0;32m---> 36\u001b[0m     fit( X_train , y_train )\n\u001b[1;32m     38\u001b[0m \u001b[39mreturn\u001b[39;00m pd\u001b[39m.\u001b[39mDataFrame( results )\n",
      "File \u001b[0;32m~/TCC/CODE/src/util/aux_fun.py:109\u001b[0m, in \u001b[0;36mfit_fun.<locals>.update\u001b[0;34m(X, y)\u001b[0m\n\u001b[1;32m    107\u001b[0m y_hat \u001b[39m=\u001b[39m net( X )\n\u001b[1;32m    108\u001b[0m loss \u001b[39m=\u001b[39m tfun\u001b[39m.\u001b[39mmse_loss( y , y_hat )\n\u001b[0;32m--> 109\u001b[0m loss\u001b[39m.\u001b[39;49mbackward()\n\u001b[1;32m    110\u001b[0m opm\u001b[39m.\u001b[39mstep()\n",
      "File \u001b[0;32m~/.local/lib/python3.10/site-packages/torch/_tensor.py:487\u001b[0m, in \u001b[0;36mTensor.backward\u001b[0;34m(self, gradient, retain_graph, create_graph, inputs)\u001b[0m\n\u001b[1;32m    477\u001b[0m \u001b[39mif\u001b[39;00m has_torch_function_unary(\u001b[39mself\u001b[39m):\n\u001b[1;32m    478\u001b[0m     \u001b[39mreturn\u001b[39;00m handle_torch_function(\n\u001b[1;32m    479\u001b[0m         Tensor\u001b[39m.\u001b[39mbackward,\n\u001b[1;32m    480\u001b[0m         (\u001b[39mself\u001b[39m,),\n\u001b[0;32m   (...)\u001b[0m\n\u001b[1;32m    485\u001b[0m         inputs\u001b[39m=\u001b[39minputs,\n\u001b[1;32m    486\u001b[0m     )\n\u001b[0;32m--> 487\u001b[0m torch\u001b[39m.\u001b[39;49mautograd\u001b[39m.\u001b[39;49mbackward(\n\u001b[1;32m    488\u001b[0m     \u001b[39mself\u001b[39;49m, gradient, retain_graph, create_graph, inputs\u001b[39m=\u001b[39;49minputs\n\u001b[1;32m    489\u001b[0m )\n",
      "File \u001b[0;32m~/.local/lib/python3.10/site-packages/torch/autograd/__init__.py:200\u001b[0m, in \u001b[0;36mbackward\u001b[0;34m(tensors, grad_tensors, retain_graph, create_graph, grad_variables, inputs)\u001b[0m\n\u001b[1;32m    195\u001b[0m     retain_graph \u001b[39m=\u001b[39m create_graph\n\u001b[1;32m    197\u001b[0m \u001b[39m# The reason we repeat same the comment below is that\u001b[39;00m\n\u001b[1;32m    198\u001b[0m \u001b[39m# some Python versions print out the first line of a multi-line function\u001b[39;00m\n\u001b[1;32m    199\u001b[0m \u001b[39m# calls in the traceback and some print out the last line\u001b[39;00m\n\u001b[0;32m--> 200\u001b[0m Variable\u001b[39m.\u001b[39;49m_execution_engine\u001b[39m.\u001b[39;49mrun_backward(  \u001b[39m# Calls into the C++ engine to run the backward pass\u001b[39;49;00m\n\u001b[1;32m    201\u001b[0m     tensors, grad_tensors_, retain_graph, create_graph, inputs,\n\u001b[1;32m    202\u001b[0m     allow_unreachable\u001b[39m=\u001b[39;49m\u001b[39mTrue\u001b[39;49;00m, accumulate_grad\u001b[39m=\u001b[39;49m\u001b[39mTrue\u001b[39;49;00m)\n",
      "\u001b[0;31mKeyboardInterrupt\u001b[0m: "
     ]
    }
   ],
   "source": [
    "\n",
    "# Candidate architectures\n",
    "shape_1 = [ 3 , 128 , 256 , 256 , 256 , 128 , 2 ]\n",
    "shape_2 = [ 3 , 256 , 512 , 256 , 2 ]\n",
    "shapes = [ \"shape_1\" , \"shape_2\" ]\n",
    "\n",
    "# Activation functions ( internal )\n",
    "act_1 = tnn.GELU\n",
    "act_2 = tnn.Softplus\n",
    "acts  = [\"act_1\" , \"act_2\"]\n",
    "\n",
    "# learning rates\n",
    "l_rates = [ 1e-4 , 1e-5 ]\n",
    "\n",
    "# saving the grid\n",
    "grid_search_instances = pd.DataFrame(\n",
    "    list( product( shapes , acts , l_rates ) ),\n",
    "    columns = [ \"shape\" , \"act\" , \"lr\" ]\n",
    ")\n",
    "\n",
    "# performance of each model\n",
    "grid_search_instances[ \"min_train\" ] = np.nan # on the training set \n",
    "grid_search_instances[ \"min_test\"  ] = np.nan # on the test set\n",
    "\n",
    "df_lst = []\n",
    "nets   = []\n",
    "n = len( grid_search_instances )\n",
    "for j in range( n ):\n",
    "\n",
    "    shape_name = grid_search_instances.at[ j , \"shape\" ]\n",
    "    shape = globals()[ shape_name ]\n",
    "\n",
    "    act_name = grid_search_instances.at[ j , \"act\" ]\n",
    "    act = globals()[ act_name ]\n",
    "\n",
    "    lr = grid_search_instances.at[ j , \"lr\" ]\n",
    "\n",
    "    # evaluate the performance \n",
    "    net , opm = make_net( shape , act , lr = lr )\n",
    "    results = evaluate_model( net , opm  )\n",
    "\n",
    "    grid_search_instances.at[ j , \"min_train\" ] = results[ \"tr_loss\" ].min()\n",
    "    grid_search_instances.at[ j , \"min_test\"  ] = results[ \"ts_loss\" ].min()\n",
    "\n",
    "    df_lst.append( results )\n",
    "    nets.append( net )\n",
    "\n",
    "grid_search_instances.sort_values( by = [ \"min_test\"] , inplace = True )\n",
    "print( grid_search_instances )"
   ]
  },
  {
   "cell_type": "code",
   "execution_count": null,
   "metadata": {},
   "outputs": [
    {
     "name": "stdout",
     "output_type": "stream",
     "text": [
      "1\n"
     ]
    },
    {
     "data": {
      "image/png": "[encoded data removed]",
      "text/plain": [
       "<Figure size 640x480 with 1 Axes>"
      ]
     },
     "metadata": {},
     "output_type": "display_data"
    }
   ],
   "source": [
    "best = grid_search_instances.index[ -1 ]\n",
    "print( best )\n",
    "\n",
    "results = df_lst[ best ]\n",
    "x_vals = results[ \"iter\" ].to_numpy()\n",
    "loss_vals = results[ [ \"tr_loss\" , \"ts_loss\" ] ].to_numpy()\n",
    "\n",
    "plt.plot( x_vals , loss_vals.T[ 1 ] , \"-k\" , label = \"test set\" )\n",
    "plt.plot( x_vals , loss_vals.T[ 0 ] , color = \"grey\" , linestyle = \"--\", lw = .5 , label = \"training set\" )\n",
    "\n",
    "plt.xlabel( \"iterations\" )\n",
    "plt.ylabel( \"MSE loss\" )\n",
    "plt.title( \"Network performance evolution\" )\n",
    "plt.legend()\n",
    "\n",
    "plt.yscale( \"log\" )\n",
    "plt.show()"
   ]
  },
  {
   "cell_type": "code",
   "execution_count": null,
   "metadata": {},
   "outputs": [
    {
     "ename": "RuntimeError",
     "evalue": "Error(s) in loading state_dict for Sequential:\n\tUnexpected key(s) in state_dict: \"0.weight\", \"0.bias\", \"2.weight\", \"2.bias\", \"4.weight\", \"4.bias\", \"6.weight\", \"6.bias\", \"8.weight\", \"8.bias\", \"10.weight\", \"10.bias\". ",
     "output_type": "error",
     "traceback": [
      "\u001b[0;31m---------------------------------------------------------------------------\u001b[0m",
      "\u001b[0;31mRuntimeError\u001b[0m                              Traceback (most recent call last)",
      "Cell \u001b[0;32mIn[6], line 3\u001b[0m\n\u001b[1;32m      1\u001b[0m \u001b[39m# net = nets[ best ]\u001b[39;00m\n\u001b[1;32m      2\u001b[0m net \u001b[39m=\u001b[39m tc\u001b[39m.\u001b[39mnn\u001b[39m.\u001b[39mSequential()\n\u001b[0;32m----> 3\u001b[0m net\u001b[39m.\u001b[39;49mload_state_dict( tc\u001b[39m.\u001b[39;49mload( \u001b[39m\"\u001b[39;49m\u001b[39mdata/r1_net.pt\u001b[39;49m\u001b[39m\"\u001b[39;49m ) )\n\u001b[1;32m      4\u001b[0m tr_df \u001b[39m=\u001b[39m pd\u001b[39m.\u001b[39mread_csv( TR_FILE )\n\u001b[1;32m      5\u001b[0m cond_df \u001b[39m=\u001b[39m pd\u001b[39m.\u001b[39mread_csv( COND_FILE )\n",
      "File \u001b[0;32m~/.local/lib/python3.10/site-packages/torch/nn/modules/module.py:2041\u001b[0m, in \u001b[0;36mModule.load_state_dict\u001b[0;34m(self, state_dict, strict)\u001b[0m\n\u001b[1;32m   2036\u001b[0m         error_msgs\u001b[39m.\u001b[39minsert(\n\u001b[1;32m   2037\u001b[0m             \u001b[39m0\u001b[39m, \u001b[39m'\u001b[39m\u001b[39mMissing key(s) in state_dict: \u001b[39m\u001b[39m{}\u001b[39;00m\u001b[39m. \u001b[39m\u001b[39m'\u001b[39m\u001b[39m.\u001b[39mformat(\n\u001b[1;32m   2038\u001b[0m                 \u001b[39m'\u001b[39m\u001b[39m, \u001b[39m\u001b[39m'\u001b[39m\u001b[39m.\u001b[39mjoin(\u001b[39m'\u001b[39m\u001b[39m\"\u001b[39m\u001b[39m{}\u001b[39;00m\u001b[39m\"\u001b[39m\u001b[39m'\u001b[39m\u001b[39m.\u001b[39mformat(k) \u001b[39mfor\u001b[39;00m k \u001b[39min\u001b[39;00m missing_keys)))\n\u001b[1;32m   2040\u001b[0m \u001b[39mif\u001b[39;00m \u001b[39mlen\u001b[39m(error_msgs) \u001b[39m>\u001b[39m \u001b[39m0\u001b[39m:\n\u001b[0;32m-> 2041\u001b[0m     \u001b[39mraise\u001b[39;00m \u001b[39mRuntimeError\u001b[39;00m(\u001b[39m'\u001b[39m\u001b[39mError(s) in loading state_dict for \u001b[39m\u001b[39m{}\u001b[39;00m\u001b[39m:\u001b[39m\u001b[39m\\n\u001b[39;00m\u001b[39m\\t\u001b[39;00m\u001b[39m{}\u001b[39;00m\u001b[39m'\u001b[39m\u001b[39m.\u001b[39mformat(\n\u001b[1;32m   2042\u001b[0m                        \u001b[39mself\u001b[39m\u001b[39m.\u001b[39m\u001b[39m__class__\u001b[39m\u001b[39m.\u001b[39m\u001b[39m__name__\u001b[39m, \u001b[39m\"\u001b[39m\u001b[39m\\n\u001b[39;00m\u001b[39m\\t\u001b[39;00m\u001b[39m\"\u001b[39m\u001b[39m.\u001b[39mjoin(error_msgs)))\n\u001b[1;32m   2043\u001b[0m \u001b[39mreturn\u001b[39;00m _IncompatibleKeys(missing_keys, unexpected_keys)\n",
      "\u001b[0;31mRuntimeError\u001b[0m: Error(s) in loading state_dict for Sequential:\n\tUnexpected key(s) in state_dict: \"0.weight\", \"0.bias\", \"2.weight\", \"2.bias\", \"4.weight\", \"4.bias\", \"6.weight\", \"6.bias\", \"8.weight\", \"8.bias\", \"10.weight\", \"10.bias\". "
     ]
    }
   ],
   "source": [
    "net = nets[ best ]\n",
    "# net = tc.nn.Sequential()\n",
    "# net.load_state_dict( tc.load( \"data/r1_net.pt\" ) )\n",
    "tr_df = pd.read_csv( TR_FILE )\n",
    "cond_df = pd.read_csv( COND_FILE )\n",
    "n_points = 25\n",
    "\n",
    "def plot_trajectory( simmu_id ):\n",
    "\n",
    "    # -------------------------------------------------\n",
    "    # getting the real trajectory\n",
    "    where = tr_df[ \"simu_id\" ] == simmu_id\n",
    "    real_tr = tr_df.loc[ where ][ [ \"x\" , \"y\" ] ].to_numpy()\n",
    "    real_x = real_tr.T[ 0 ]\n",
    "    real_y = real_tr.T[ 1 ]\n",
    "\n",
    "    #---------------------------------------------------\n",
    "    init_cond = cond_df.loc[ simmu_id ]\n",
    "    v_0 = init_cond[ \"v_0\"]\n",
    "    theta_0 = init_cond[ \"theta_0\"]\n",
    "\n",
    "    # network input\n",
    "    X_input = tc.zeros( n_points , 3 , dtype = STD_TYPE , device = DEVICE )\n",
    "    X_input[ : , 0 ] = theta_0\n",
    "    X_input[ : , 1 ] = v_0\n",
    "    X_input[ : , 2 ] = tc.linspace( 0 , 1. , n_points )\n",
    "\n",
    "    # network estimated trajectory\n",
    "    net_out = net( X_input ).cpu().detach().numpy()\n",
    "    net_x = net_out.T[ 0 ]\n",
    "    net_y = net_out.T[ 1 ]\n",
    "\n",
    "    # ------------------------------------------------\n",
    "    # plotting trajectories\n",
    "    fig , ax = plt.subplots( figsize = ( 12 , 8 ))\n",
    "    ax.set_aspect( \"equal\" )\n",
    "\n",
    "    # real trajectory\n",
    "    ax.plot( real_x, real_y , \"--k\" , lw = .5 , label = \"Runge Kutta trajectory\")\n",
    "    ax.plot( net_x , net_y , \"*b\" , label = \"R1 trajectory: t <= 1 sec\" )\n",
    "\n",
    "    plt.legend()\n",
    "    plt.show()\n",
    "\n",
    "plot_trajectory( 89 )"
   ]
  },
  {
   "cell_type": "markdown",
   "metadata": {},
   "source": []
  },
  {
   "cell_type": "markdown",
   "metadata": {},
   "source": []
  },
  {
   "cell_type": "code",
   "execution_count": null,
   "metadata": {},
   "outputs": [],
   "source": [
    "tc.save( net , \"data/r1_net.pt\" )"
   ]
  },
  {
   "cell_type": "code",
   "execution_count": null,
   "metadata": {},
   "outputs": [
    {
     "name": "stdout",
     "output_type": "stream",
     "text": [
      "tensor([4.5197, 1.2629], device='cuda:0', dtype=torch.float64)\n",
      "tensor([4.2765, 1.4872], device='cuda:0', dtype=torch.float64,\n",
      "       grad_fn=<AddBackward0>)\n"
     ]
    }
   ],
   "source": []
  }
 ],
 "metadata": {
  "kernelspec": {
   "display_name": "Python 3",
   "language": "python",
   "name": "python3"
  },
  "language_info": {
   "codemirror_mode": {
    "name": "ipython",
    "version": 3
   },
   "file_extension": ".py",
   "mimetype": "text/x-python",
   "name": "python",
   "nbconvert_exporter": "python",
   "pygments_lexer": "ipython3",
   "version": "3.10.6"
  },
  "orig_nbformat": 4
 },
 "nbformat": 4,
 "nbformat_minor": 2
}
