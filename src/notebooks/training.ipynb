{
 "cells": [
  {
   "cell_type": "code",
   "execution_count": 16,
   "metadata": {},
   "outputs": [
    {
     "name": "stdout",
     "output_type": "stream",
     "text": [
      "cuda\n"
     ]
    }
   ],
   "source": [
    "import os\n",
    "os.chdir( \"/home/lucasfuzato/TCC/CODE\" )\n",
    "\n",
    "import torch as tc\n",
    "device = \"cuda\" if tc.cuda.is_available() else \"cpu\"\n",
    "print( device )\n",
    "\n",
    "import torch.nn as tnn\n",
    "import torch.optim as top\n",
    "import torch.nn.functional as tfun\n",
    "import torch.autograd as tgd\n",
    "\n",
    "import pandas as pd\n",
    "pos_df = pd.read_csv( \"data/pend_sim.csv\" )\n",
    "\n",
    "from typing import *\n",
    "from itertools import *\n",
    "from src.util.aux_fun import *"
   ]
  },
  {
   "cell_type": "code",
   "execution_count": 29,
   "metadata": {},
   "outputs": [],
   "source": [
    "def make_net( \n",
    "        shape : Tuple, \n",
    "        activation : tnn.Module = tnn.ReLU,\n",
    "        omega = 0,\n",
    "        lr : float = 1e-3\n",
    "    ):\n",
    "\n",
    "    # making the mlp regressor\n",
    "    net = tnn.Sequential()\n",
    "    n = len( shape )\n",
    "    for i in range( 1 , n ):\n",
    "        in_size = shape[ i - 1 ]\n",
    "        out_size = shape[ i ]\n",
    "        net.append( tnn.Linear( in_size , out_size , dtype = tc.float64 , device = device) )\n",
    "        if i < n - 1:\n",
    "            net.append( activation() )\n",
    "    # net = net.to( device )\n",
    "\n",
    "    # optimizer\n",
    "    opm = top.Adam( net.parameters() , lr = lr , weight_decay = omega )\n",
    "\n",
    "    return net , opm\n",
    "\n",
    "def time_grad( t : tc.Tensor , state : tc.Tensor ) -> tc.Tensor:\n",
    "\n",
    "    '''\n",
    "    computes the time gradient of state in regards to t\n",
    "    '''\n",
    "\n",
    "    # t_clone = tc.tensor( t , requires_grad = True )\n",
    "    return tgd.grad(\n",
    "        state,\n",
    "        t,\n",
    "        grad_outputs = tc.ones_like( state ),\n",
    "        create_graph = True\n",
    "    )[ 0 ]\n",
    "\n",
    "\n",
    "def pinn_fit_fun( net : tnn.Module , opm : top.Optimizer , time_interval , num_points , alpha : float = 0.5  ):\n",
    "\n",
    "    def make_collation_points( ):\n",
    "\n",
    "        min_t , max_t = time_interval\n",
    "        rd_pts = tc.rand( ( num_points , 1 ) , dtype = tc.float64, device = device , requires_grad = True )\n",
    "        c_pts = min_t + ( max_t - min_t )*rd_pts\n",
    "\n",
    "        return c_pts\n",
    "\n",
    "    def physics_reg( c_pts ):\n",
    "\n",
    "        '''\n",
    "        regularization factor to make the net obey the laws of physics\n",
    "        throughout the entire domain of the problem\n",
    "        '''\n",
    "\n",
    "        # network aproximation\n",
    "        pos_hat = net( c_pts )\n",
    "        t1_hat  = pos_hat.T[ 0 ]\n",
    "        o1_hat  = time_grad( c_pts , t1_hat)\n",
    "        t2_hat  = pos_hat.T[ 1 ]\n",
    "        o2_hat  = time_grad( c_pts , t2_hat)\n",
    "\n",
    "        # detached compies from tensors\n",
    "        t1 = tc.clone( t1_hat ).detach().unsqueeze( 1 )\n",
    "        o1 = tc.clone( o1_hat ).detach()\n",
    "        t2 = tc.clone( t2_hat ).detach().unsqueeze( 1 )\n",
    "        o2 = tc.clone( o2_hat ).detach()\n",
    "\n",
    "        # expected acc for pendulum 1 \n",
    "        p1_num1 = -3*tc.sin( t1 )\n",
    "        p1_num2 = -tc.sin( t1 - 2*t2 )\n",
    "        p1_num3 = -2*tc.sin( t1 - t2 )*( o2**2 + ( o1**2 )*tc.cos( t1 - t2 ) )\n",
    "        den = 3 - tc.cos( 2*t1 - 2*t2 )\n",
    "\n",
    "        acc_1 = ( p1_num1 + p1_num2 + p1_num3 )/den\n",
    "\n",
    "        # real acc for pendulum 1 and physics loss\n",
    "        o1_dot = time_grad( c_pts , o1_hat )\n",
    "        loss_1 = tfun.mse_loss( o1_dot , acc_1 )\n",
    "\n",
    "        # expected acc for pendulum 2 \n",
    "        p2_num1 = 2*tc.sin( t1 - t2 )\n",
    "        p2_num2 = 2*( o1**2 + tc.cos( t1 ) )\n",
    "        p2_num3 = ( o2**2 )*tc.cos( t1 - t2 )\n",
    "\n",
    "        acc_2 = ( p2_num1 + p2_num2 + p2_num3 )/den\n",
    "\n",
    "        # real acc for pendulum 2 and physics loss\n",
    "        o2_dot = time_grad( c_pts , o2_hat )\n",
    "        loss_2 = tfun.mse_loss( o2_dot , acc_2 )\n",
    "        \n",
    "\n",
    "        return ( loss_1 + loss_2 )/2\n",
    "\n",
    "\n",
    "    def update( t : tc.Tensor , pos : tc.Tensor ):\n",
    "\n",
    "        net.zero_grad()\n",
    "\n",
    "        # ---------------------------------\n",
    "        # data loss\n",
    "        pos_hat = net( t )\n",
    "        data_loss = tfun.mse_loss( pos , pos_hat )\n",
    "\n",
    "        # --------------------------------\n",
    "        # physics loss\n",
    "        c_pts = make_collation_points()\n",
    "        p_loss = physics_reg( c_pts )\n",
    "\n",
    "        loss = data_loss + p_loss*alpha\n",
    "        loss.backward()\n",
    "        opm.step()\n",
    "        \n",
    "    return update"
   ]
  },
  {
   "cell_type": "code",
   "execution_count": 11,
   "metadata": {},
   "outputs": [
    {
     "data": {
      "image/png": "[encoded data removed]",
      "text/plain": [
       "<Figure size 640x480 with 1 Axes>"
      ]
     },
     "metadata": {},
     "output_type": "display_data"
    }
   ],
   "source": [
    "sample = sample_coordinates( pos_df , start = 50 , end = 55.3 )\n",
    "cart_sample = from_polar( sample )\n",
    "\n",
    "x , y = cart_sample[ \"x2\" ] , cart_sample[ \"y2\" ]\n",
    "fig , ax = plt.subplots()\n",
    "ax.plot( x , y , linestyle = \"--\" , color = \"grey\" )\n",
    "plt.show()"
   ]
  },
  {
   "cell_type": "code",
   "execution_count": 30,
   "metadata": {},
   "outputs": [
    {
     "name": "stdout",
     "output_type": "stream",
     "text": [
      "torch.Size([100, 1])\n",
      "torch.Size([100, 1])\n"
     ]
    }
   ],
   "source": [
    "standard_shp = ( 1 , 128 , 128 , 2 )\n",
    "net , opm = make_pinn( standard_shp )\n",
    "\n",
    "time_interval = ( 0 , 1200 )\n",
    "num_cpts = 100\n",
    "pinn_fit = pinn_fit_fun( net , opm , time_interval , num_cpts )\n",
    "\n",
    "train_loader , test_loader = make_sampler( pos_df )\n",
    "\n",
    "t , pos = next( iter( train_loader ) )\n",
    "t = t.unsqueeze(1).to( device )\n",
    "pos = pos.to( device )\n",
    "pinn_fit( t , pos )"
   ]
  }
 ],
 "metadata": {
  "kernelspec": {
   "display_name": "Python 3",
   "language": "python",
   "name": "python3"
  },
  "language_info": {
   "codemirror_mode": {
    "name": "ipython",
    "version": 3
   },
   "file_extension": ".py",
   "mimetype": "text/x-python",
   "name": "python",
   "nbconvert_exporter": "python",
   "pygments_lexer": "ipython3",
   "version": "3.10.6"
  },
  "orig_nbformat": 4
 },
 "nbformat": 4,
 "nbformat_minor": 2
}
