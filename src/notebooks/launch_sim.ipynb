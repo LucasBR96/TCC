{
 "cells": [
  {
   "cell_type": "code",
   "execution_count": 1,
   "metadata": {},
   "outputs": [],
   "source": [
    "import os\n",
    "os.chdir( \"/home/lucasfuzato/TCC/CODE\" )\n",
    "from itertools import product\n",
    "\n",
    "import pandas as pd\n",
    "import numpy as np\n",
    "\n",
    "from src.util.aux_fun import *\n",
    "from src.util.constantes import *"
   ]
  },
  {
   "cell_type": "code",
   "execution_count": 4,
   "metadata": {},
   "outputs": [
    {
     "name": "stdout",
     "output_type": "stream",
     "text": [
      "  theta_0 v_0\n",
      "0      15  10\n",
      "1      15  12\n",
      "2      15  14\n",
      "3      15  16\n",
      "4      15  18\n",
      "5      15  20\n",
      "6      15  22\n",
      "7      15  24\n",
      "8      15  26\n",
      "9      15  28\n"
     ]
    }
   ],
   "source": [
    "# this dataframe will contain basic information of\n",
    "# the simulations that will be used by the first network\n",
    "# starting by the initial conditions\n",
    "cond_df = pd.DataFrame( columns = [ \"theta_0\" , \"v_0\"] )\n",
    "\n",
    "# initial condition will be given by launch angle in degrees\n",
    "# ( theta_0 ) , and modular velocity in meters/sec ( v_0 )\n",
    "prod = product( launch_angles , initial_velocities )\n",
    "for it , ( theta_0 , v_0 ) in enumerate( prod ):\n",
    "    cond_df.at[ it , \"theta_0\" ] = theta_0\n",
    "    cond_df.at[ it , \"v_0\" ] = v_0\n",
    "\n",
    "# for good measure\n",
    "print( cond_df.head(10) )"
   ]
  },
  {
   "cell_type": "code",
   "execution_count": 9,
   "metadata": {},
   "outputs": [
    {
     "name": "stdout",
     "output_type": "stream",
     "text": [
      "   theta_0 v_0  test_set\n",
      "0       15  10      True\n",
      "1       15  12     False\n",
      "2       15  14     False\n",
      "3       15  16     False\n",
      "4       15  18     False\n",
      "5       15  20      True\n",
      "6       15  22     False\n",
      "7       15  24     False\n",
      "8       15  26     False\n",
      "9       15  28     False\n",
      "10      15  30      True\n",
      "11      20  10     False\n",
      "12      20  12     False\n",
      "13      20  14     False\n",
      "14      20  16     False\n",
      "\n",
      " mean values ----------\n",
      "            theta_0   v_0\n",
      "test_set                 \n",
      "False     37.727273  20.0\n",
      "True      36.590909  20.0\n",
      "\n",
      " standard deviation ----------\n",
      "            theta_0       v_0\n",
      "test_set                     \n",
      "False     14.402049  6.360799\n",
      "True      14.831302  6.473389\n"
     ]
    }
   ],
   "source": [
    "# getting the train test split, every 5th simulation\n",
    "# will be in the test_set and the rest will be in the\n",
    "# training one\n",
    "\n",
    "# splitting positions\n",
    "split_pos = 5\n",
    "arr = np.array( [False]*len( cond_df ) )\n",
    "arr[ ::split_pos ] = True\n",
    "\n",
    "# adding to the dataframe\n",
    "cond_df[ \"test_set\" ] = pd.Series( arr )\n",
    "\n",
    "# and printing for good measure\n",
    "print( cond_df.head(15) )\n",
    "\n",
    "# grouping for check if the mean values for the diferent\n",
    "# conditions are very diferent from each other\n",
    "cond_groups = cond_df.groupby( by = [ \"test_set\" ] )\n",
    "print( \"\\n mean values ----------\" )\n",
    "print( cond_groups.mean() )\n",
    "\n",
    "print( \"\\n standard deviation ----------\" )\n",
    "print( cond_groups.std() )"
   ]
  },
  {
   "cell_type": "code",
   "execution_count": null,
   "metadata": {},
   "outputs": [],
   "source": []
  }
 ],
 "metadata": {
  "kernelspec": {
   "display_name": "Python 3",
   "language": "python",
   "name": "python3"
  },
  "language_info": {
   "codemirror_mode": {
    "name": "ipython",
    "version": 3
   },
   "file_extension": ".py",
   "mimetype": "text/x-python",
   "name": "python",
   "nbconvert_exporter": "python",
   "pygments_lexer": "ipython3",
   "version": "3.10.6"
  },
  "orig_nbformat": 4
 },
 "nbformat": 4,
 "nbformat_minor": 2
}
