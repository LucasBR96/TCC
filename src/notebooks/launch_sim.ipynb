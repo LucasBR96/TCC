{
 "cells": [
  {
   "cell_type": "code",
   "execution_count": 1,
   "metadata": {},
   "outputs": [
    {
     "name": "stderr",
     "output_type": "stream",
     "text": [
      "/home/lucasfuzato/.local/lib/python3.10/site-packages/torch/cuda/__init__.py:107: UserWarning: CUDA initialization: CUDA unknown error - this may be due to an incorrectly set up environment, e.g. changing env variable CUDA_VISIBLE_DEVICES after program start. Setting the available devices to be zero. (Triggered internally at ../c10/cuda/CUDAFunctions.cpp:109.)\n",
      "  return torch._C._cuda_getDeviceCount() > 0\n"
     ]
    }
   ],
   "source": [
    "import os\n",
    "os.chdir( \"/home/lucasfuzato/TCC/CODE\" )\n",
    "from itertools import product\n",
    "from dataclasses import make_dataclass\n",
    "\n",
    "import pandas as pd\n",
    "import numpy as np\n",
    "\n",
    "from src.util.aux_fun import *\n",
    "from src.util.constantes import *"
   ]
  },
  {
   "cell_type": "code",
   "execution_count": 2,
   "metadata": {},
   "outputs": [
    {
     "name": "stdout",
     "output_type": "stream",
     "text": [
      "  theta_0 v_0\n",
      "0      15  50\n",
      "1      15  52\n",
      "2      15  54\n",
      "3      15  56\n",
      "4      15  58\n",
      "5      15  60\n",
      "6      15  62\n",
      "7      15  64\n",
      "8      15  66\n",
      "9      15  68\n"
     ]
    }
   ],
   "source": [
    "# this dataframe will contain basic information of\n",
    "# the simulations that will be used by the first network\n",
    "# starting by the initial conditions\n",
    "cond_df = pd.DataFrame( columns = [ \"theta_0\" , \"v_0\"] )\n",
    "\n",
    "# initial condition will be given by launch angle in degrees\n",
    "# ( theta_0 ) , and modular velocity in meters/sec ( v_0 )\n",
    "prod = product( launch_angles , initial_velocities )\n",
    "for it , ( theta_0 , v_0 ) in enumerate( prod ):\n",
    "    cond_df.at[ it , \"theta_0\" ] = theta_0\n",
    "    cond_df.at[ it , \"v_0\" ] = v_0\n",
    "\n",
    "# for good measure\n",
    "print( cond_df.head(10) )"
   ]
  },
  {
   "cell_type": "code",
   "execution_count": 3,
   "metadata": {},
   "outputs": [
    {
     "name": "stdout",
     "output_type": "stream",
     "text": [
      "   theta_0 v_0  test_set\n",
      "0       15  50      True\n",
      "1       15  52     False\n",
      "2       15  54     False\n",
      "3       15  56     False\n",
      "4       15  58     False\n",
      "5       15  60      True\n",
      "6       15  62     False\n",
      "7       15  64     False\n",
      "8       15  66     False\n",
      "9       15  68     False\n",
      "10      15  70      True\n",
      "11      15  72     False\n",
      "12      15  74     False\n",
      "13      15  76     False\n",
      "14      15  78     False\n",
      "\n",
      " mean values ----------\n",
      "            theta_0        v_0\n",
      "test_set                      \n",
      "False     37.020921  74.958159\n",
      "True      36.916667  75.166667\n",
      "\n",
      " standard deviation ----------\n",
      "            theta_0        v_0\n",
      "test_set                      \n",
      "False     13.269327  15.001688\n",
      "True      13.365944  15.117653\n"
     ]
    }
   ],
   "source": [
    "# getting the train test split, every 5th simulation\n",
    "# will be in the test_set and the rest will be in the\n",
    "# training one\n",
    "\n",
    "# splitting positions\n",
    "split_pos = 5\n",
    "arr = np.array( [False]*len( cond_df ) )\n",
    "arr[ ::split_pos ] = True\n",
    "\n",
    "# adding to the dataframe\n",
    "cond_df[ \"test_set\" ] = pd.Series( arr )\n",
    "\n",
    "# and printing for good measure\n",
    "print( cond_df.head(15) )\n",
    "\n",
    "# grouping for check if the mean values for the diferent\n",
    "# conditions are very diferent from each other\n",
    "cond_groups = cond_df.groupby( by = [ \"test_set\" ] )\n",
    "print( \"\\n mean values ----------\" )\n",
    "print( cond_groups.mean() )\n",
    "\n",
    "print( \"\\n standard deviation ----------\" )\n",
    "print( cond_groups.std() )"
   ]
  },
  {
   "cell_type": "code",
   "execution_count": 4,
   "metadata": {},
   "outputs": [
    {
     "name": "stdout",
     "output_type": "stream",
     "text": [
      "  theta_0 v_0  test_set  real_time  sim_time  max_x  max_y\n",
      "0      15  50      True        NaN       NaN    NaN    NaN\n",
      "1      15  52     False        NaN       NaN    NaN    NaN\n",
      "2      15  54     False        NaN       NaN    NaN    NaN\n",
      "3      15  56     False        NaN       NaN    NaN    NaN\n",
      "4      15  58     False        NaN       NaN    NaN    NaN\n",
      "5      15  60      True        NaN       NaN    NaN    NaN\n",
      "6      15  62     False        NaN       NaN    NaN    NaN\n",
      "7      15  64     False        NaN       NaN    NaN    NaN\n",
      "8      15  66     False        NaN       NaN    NaN    NaN\n",
      "9      15  68     False        NaN       NaN    NaN    NaN\n"
     ]
    }
   ],
   "source": [
    "# -----------------------------------------------\n",
    "# adding some extra columns\n",
    "#\n",
    "# real_time -> time it took to the simulation to be completed\n",
    "# sim_time -> simulated trajectory time\n",
    "# max_y , max_x -> self.explanatory\n",
    "cond_df[ [\"real_time\" , \"sim_time\" , \"max_x\" , \"max_y\"] ] = np.nan\n",
    "print( cond_df.head( 10 ))"
   ]
  },
  {
   "cell_type": "code",
   "execution_count": 5,
   "metadata": {},
   "outputs": [
    {
     "name": "stdout",
     "output_type": "stream",
     "text": [
      "   simu_id      t         x         y\n",
      "0        0  0.000  0.000000  0.000000\n",
      "1        0  0.005  0.240900  0.064541\n",
      "2        0  0.010  0.480645  0.128753\n",
      "3        0  0.015  0.719246  0.192639\n",
      "4        0  0.020  0.956714  0.256198\n"
     ]
    }
   ],
   "source": [
    "# dataframe with the trajectories of the launched objects\n",
    "# each entry will have a fk to the initial condition, a timestamp,\n",
    "# and the position ( x , y ) on the given timestamp\n",
    "columns = [( \"simu_id\", int ) , \"t\" , \"x\" , \"y\" ]\n",
    "row  = make_dataclass( \"row\", columns ) \n",
    "ser_lst = []\n",
    "# tr_df = pd.DataFrame( columns = columns )\n",
    "\n",
    "# amount of iterations of the rk process\n",
    "# to make one record on the trajectort data\n",
    "# frame\n",
    "num_iter = int( R_STEP/H_STEP )\n",
    "\n",
    "for i in cond_df.index:\n",
    "\n",
    "    # getting the initial state for the simulation\n",
    "    # each state handled by the rk machine is in the\n",
    "    # format [ x , y , vx , vy ], and every initial state\n",
    "    # has x and y equal to zero\n",
    "    theta_0 = cond_df.at[ i , \"theta_0\" ]\n",
    "    theta_rad = np.deg2rad( theta_0 )    # numpy works with angles in radian format\n",
    "\n",
    "    v_0 = cond_df.at[ i , \"v_0\" ]\n",
    "    vx = v_0*np.cos( theta_rad )\n",
    "    vy = v_0*np.sin( theta_rad )\n",
    "\n",
    "    # initial state, rk machine that will work with it\n",
    "    # and the iterator.\n",
    "    state_0 = np.array( [ 0 , 0 , vx , vy ] )\n",
    "    rk = get_rk4_machine( state_0 , H_STEP , state_update )\n",
    "    rk_iter = rk_iterator( rk , num_iter = num_iter )\n",
    "\n",
    "    # now making the simulation\n",
    "    while True:\n",
    "\n",
    "        # # entry corresponding to the trajectory point\n",
    "        # ser = pd.Series( index = columns )\n",
    "\n",
    "        # assigning initial condition\n",
    "        simu_id = i\n",
    "\n",
    "        # getting the next state \n",
    "        t , state = next( rk_iter )\n",
    "        x = state[ 0 ]\n",
    "        y = state[ 1 ]\n",
    "\n",
    "        # assigning to the list\n",
    "        ser_lst.append( row( simu_id , t , x , y ) )\n",
    "\n",
    "        # simulation ends when the ball hits the \n",
    "        # ground\n",
    "        if y < 0:\n",
    "            break\n",
    "    \n",
    "    # getting the real time it took\n",
    "    # to make the simulation\n",
    "    cond_df.at[ i , \"real_time\" ] = np.round( 1000*rk.clock , 2 )\n",
    "\n",
    "# finally making the dataframe\n",
    "tr_df = pd.DataFrame( ser_lst )\n",
    "print( tr_df.head() )\n",
    "\n"
   ]
  },
  {
   "cell_type": "code",
   "execution_count": 6,
   "metadata": {},
   "outputs": [
    {
     "name": "stdout",
     "output_type": "stream",
     "text": [
      "  theta_0 v_0  test_set  real_time  sim_time      max_x     max_y\n",
      "0      15  50      True    1171.61     2.450  60.693953  7.349777\n",
      "1      15  52     False    1169.18     2.535  63.299003  7.864067\n",
      "2      15  54     False    1224.86     2.620  65.863071  8.387537\n",
      "3      15  56     False    1283.68     2.700  68.316822  8.919449\n",
      "4      15  58     False    1294.20     2.780  70.730941  9.458993\n"
     ]
    }
   ],
   "source": [
    "# now, time to find de max values of the simulation time\n",
    "# x and y for each simulation\n",
    "tr_max = tr_df.groupby( by = \"simu_id\" ).max()\n",
    "cond_df[ \"sim_time\" ] = tr_max[ \"t\" ]\n",
    "cond_df[ \"max_x\" ] = tr_max[ \"x\" ]\n",
    "cond_df[ \"max_y\" ] = tr_max[ \"y\" ]\n",
    "\n",
    "print( cond_df.head() )"
   ]
  },
  {
   "cell_type": "code",
   "execution_count": 7,
   "metadata": {},
   "outputs": [],
   "source": [
    "# finally saving\n",
    "cond_df.to_csv( COND_FILE , index = False )\n",
    "tr_df.to_csv( TR_FILE , index = False)"
   ]
  },
  {
   "cell_type": "code",
   "execution_count": 8,
   "metadata": {},
   "outputs": [
    {
     "name": "stdout",
     "output_type": "stream",
     "text": [
      "0.02\n"
     ]
    }
   ],
   "source": [
    "print( AIR_DRAG )"
   ]
  }
 ],
 "metadata": {
  "kernelspec": {
   "display_name": "Python 3",
   "language": "python",
   "name": "python3"
  },
  "language_info": {
   "codemirror_mode": {
    "name": "ipython",
    "version": 3
   },
   "file_extension": ".py",
   "mimetype": "text/x-python",
   "name": "python",
   "nbconvert_exporter": "python",
   "pygments_lexer": "ipython3",
   "version": "3.10.6"
  },
  "orig_nbformat": 4
 },
 "nbformat": 4,
 "nbformat_minor": 2
}
