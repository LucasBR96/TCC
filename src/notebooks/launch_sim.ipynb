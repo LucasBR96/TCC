{
 "cells": [
  {
   "cell_type": "code",
   "execution_count": 7,
   "metadata": {},
   "outputs": [
    {
     "name": "stdout",
     "output_type": "stream",
     "text": [
      "/home/lucasfuzato/TCC/CODE\n"
     ]
    }
   ],
   "source": [
    "import os\n",
    "os.chdir( \"/home/lucasfuzato/TCC/CODE\" )\n",
    "\n",
    "print( os.getcwd() )\n",
    "\n",
    "import pandas as pd\n",
    "import numpy as np\n",
    "\n",
    "from src.util.aux_fun import *"
   ]
  },
  {
   "cell_type": "code",
   "execution_count": 8,
   "metadata": {},
   "outputs": [],
   "source": [
    "THETA_START = np.pi/2.2\n",
    "START = np.array([\n",
    "    THETA_START,    # Theta 1\n",
    "    THETA_START,    # Theta 2 \n",
    "    0,              # omega 1\n",
    "    0,              # omega 2\n",
    "])\n",
    "h_update = 10**( -3 )\n",
    "rk = get_rk4_machine( START , h_update , dpend_update )\n",
    "\n",
    "repeats , max_time , results_lst = 10 , 1200 , list()\n",
    "i = -1\n",
    "while True:\n",
    "\n",
    "    t , X = rk()\n",
    "\n",
    "    i += 1\n",
    "    if i%repeats == 0:\n",
    "\n",
    "        theta_1 = X[ 0 ]\n",
    "        theta_2 = X[ 1 ]\n",
    "        ser = pd.Series(\n",
    "            [ t , theta_1 , theta_2 ],\n",
    "            index = [ \"t\" , \"theta_1\" , \"theta_2\"]\n",
    "        )\n",
    "        results_lst.append( ser )\n",
    "    \n",
    "\n",
    "    if t > max_time:\n",
    "        break\n"
   ]
  },
  {
   "cell_type": "code",
   "execution_count": 9,
   "metadata": {},
   "outputs": [
    {
     "name": "stdout",
     "output_type": "stream",
     "text": [
      "      t   theta_1   theta_2\n",
      "0  0.00  1.427997  1.427997\n",
      "1  0.01  1.427947  1.427997\n",
      "2  0.02  1.427799  1.427997\n",
      "3  0.03  1.427551  1.427997\n",
      "4  0.04  1.427205  1.427997\n"
     ]
    }
   ],
   "source": [
    "results_df = pd.DataFrame( results_lst )\n",
    "print( results_df.head() )\n",
    "\n",
    "os.chdir( \"/home/lucasfuzato/TCC/CODE\" )\n",
    "results_df.to_csv( \"data/pend_sim.csv\" , index = False )"
   ]
  }
 ],
 "metadata": {
  "kernelspec": {
   "display_name": "Python 3",
   "language": "python",
   "name": "python3"
  },
  "language_info": {
   "codemirror_mode": {
    "name": "ipython",
    "version": 3
   },
   "file_extension": ".py",
   "mimetype": "text/x-python",
   "name": "python",
   "nbconvert_exporter": "python",
   "pygments_lexer": "ipython3",
   "version": "3.10.6"
  },
  "orig_nbformat": 4
 },
 "nbformat": 4,
 "nbformat_minor": 2
}
